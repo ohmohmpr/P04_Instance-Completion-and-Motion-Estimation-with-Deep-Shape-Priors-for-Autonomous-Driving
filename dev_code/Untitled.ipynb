{
 "cells": [
  {
   "cell_type": "code",
   "execution_count": 9,
   "id": "d6a63ab7-8ec8-4573-b6ae-e3817f946f78",
   "metadata": {},
   "outputs": [],
   "source": [
    "import open3d as o3d\n",
    "import numpy as np\n",
    "import time\n",
    "\n",
    "pcd_track_uuids = np.load(\"../results/pcd/000/000016/pcd.npy\",  allow_pickle=True).item()\n",
    "# print(\"pcd_track_uuids\", type(pcd_track_uuids))\n",
    "# print(\"pcd_track_uuids\", pcd_track_uuids.keys())\n",
    "# ['3098a954-d9d8-4b9f-85a2-5523dba98fad', '2f999c71-bfc0-405e-a620-574545ffb657']\n",
    "# print(\"pcd_track_uuids\", pcd_track_uuids['3098a954-d9d8-4b9f-85a2-5523dba98fad'].keys())\n",
    "# [2]\n",
    "points = pcd_track_uuids['2f999c71-bfc0-405e-a620-574545ffb657'][6]\n",
    "# points = pcd_track_uuids['3098a954-d9d8-4b9f-85a2-5523dba98fad'][2]\n",
    "\n",
    "\n",
    "# Visualize results\n",
    "vis = o3d.visualization.Visualizer()\n",
    "vis.create_window()\n",
    "# Coordinate frame\n",
    "axis_pcd = o3d.geometry.TriangleMesh.create_coordinate_frame(size=1.0, origin=[0, 0, 0])\n",
    "vis.add_geometry(axis_pcd)\n",
    "\n",
    "# Create points\n",
    "pcd = o3d.geometry.PointCloud()\n",
    "pcd.points = o3d.utility.Vector3dVector(points_scan)\n",
    "\n",
    "vis.add_geometry(pcd)\n",
    "for frame_id, points_scan in points.items():\n",
    "    try:\n",
    "        pcd.points = o3d.utility.Vector3dVector(points_scan)\n",
    "        vis.update_geometry(pcd)\n",
    "        vis.poll_events()\n",
    "        vis.update_renderer()\n",
    "        time.sleep(0.1)\n",
    "        # vis.remove_geometry(pcd, reset_bounding_box=False)\n",
    "    except:\n",
    "        pass\n",
    "\n",
    "vis.destroy_window()"
   ]
  },
  {
   "cell_type": "code",
   "execution_count": null,
   "id": "970cffbf-1716-41b4-ab77-25d2422654f7",
   "metadata": {},
   "outputs": [],
   "source": [
    "\n",
    "    # for i in range(len(obj_codes)):\n",
    "    #     mesh = mesh_extractor.extract_mesh_from_code(obj_codes[i])\n",
    "    #     mesh_o3d.vertices = o3d.utility.Vector3dVector(mesh.vertices)\n",
    "    #     mesh_o3d.triangles = o3d.utility.Vector3iVector(mesh.faces)\n",
    "    #     mesh_o3d.compute_vertex_normals()\n",
    "        \n",
    "\n",
    "    #     correction_transform = obj.pose_list[i]\n",
    "    #     # mesh_optimized = copy.deepcopy(mesh_o3d)\n",
    "    #     mesh_o3d.transform(np.linalg.inv(correction_transform))\n",
    "\n",
    "    #     # mesh_in_object_frame = copy.deepcopy(mesh_optimized)\n",
    "    #     # APPLY INVERSE TRANSFORMATION TO GET MESH IN OBJECT FRAME WITH CONSTANT PARITY\n",
    "    #     mesh_o3d.transform(np.linalg.inv(T_constant_parity))\n",
    "\n",
    "    #     # Write to mesh\n",
    "    #     # o3d.io.write_triangle_mesh(\"/home/shashank/Documents/UniBonn/Sem2/MSR_P04/from_scratch/optimized_meshes/car1/mesh_optimized\" +\"_\" +str(i) + \".ply\", mesh_optimized )\n",
    "\n",
    "\n",
    "    #     # Visualize mesh \n",
    "    #     vis.update_geometry(mesh_o3d)\n",
    "    #     # vis.add_geometry(car)\n",
    "    #     vis.poll_events()\n",
    "    #     vis.update_renderer()\n",
    "    #     time.sleep(0.5)\n",
    "    #     vis.run()\n",
    "    # vis.destroy_window()"
   ]
  }
 ],
 "metadata": {
  "kernelspec": {
   "display_name": "Python 3 (ipykernel)",
   "language": "python",
   "name": "python3"
  },
  "language_info": {
   "codemirror_mode": {
    "name": "ipython",
    "version": 3
   },
   "file_extension": ".py",
   "mimetype": "text/x-python",
   "name": "python",
   "nbconvert_exporter": "python",
   "pygments_lexer": "ipython3",
   "version": "3.10.12"
  }
 },
 "nbformat": 4,
 "nbformat_minor": 5
}
